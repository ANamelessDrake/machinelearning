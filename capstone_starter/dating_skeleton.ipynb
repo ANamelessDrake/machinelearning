{
 "cells": [
  {
   "cell_type": "markdown",
   "metadata": {},
   "source": [
    "# Capstone Project"
   ]
  },
  {
   "cell_type": "markdown",
   "metadata": {},
   "source": [
    "### Project Questions\n",
    "* Can we determine gender based on the words used in essay answers\n",
    "* Can we determine income based off of words used in essay answers\n",
    "* Can we determine education based off of words used in essay answers"
   ]
  },
  {
   "cell_type": "code",
   "execution_count": 1,
   "metadata": {
    "collapsed": true
   },
   "outputs": [],
   "source": [
    "import re, time, os\n",
    "import pandas as pd\n",
    "import numpy as np\n",
    "from matplotlib import pyplot as plt\n",
    "from sklearn.feature_extraction.text import CountVectorizer\n",
    "from sklearn.naive_bayes import MultinomialNB\n",
    "from sklearn.feature_extraction.text import TfidfVectorizer\n",
    "from sklearn.feature_extraction.text import TfidfTransformer\n",
    "from sklearn.feature_selection import chi2\n",
    "from sklearn.model_selection import train_test_split"
   ]
  },
  {
   "cell_type": "code",
   "execution_count": 2,
   "metadata": {
    "collapsed": true
   },
   "outputs": [],
   "source": [
    "%matplotlib inline"
   ]
  },
  {
   "cell_type": "markdown",
   "metadata": {},
   "source": [
    "### Here we create a function to clean up the Essay data\n",
    "This essentially just removes punctuation and HTML tags from the data. "
   ]
  },
  {
   "cell_type": "code",
   "execution_count": 3,
   "metadata": {
    "collapsed": true
   },
   "outputs": [],
   "source": [
    "def data_therapy(dataFrame):\n",
    "    temp_holder = []\n",
    "    dataFrame = dataFrame.replace(['<br />', '<b>', '</b>','<a.*>', '\\n', '-', '[,.!\"/():?_;]'],' ', regex=True)\n",
    "    for i in range(len(dataFrame)):\n",
    "        temp_holder.append(re.sub(' +', ' ', dataFrame[i].strip().lower()))\n",
    "\n",
    "    return temp_holder"
   ]
  },
  {
   "cell_type": "code",
   "execution_count": 4,
   "metadata": {
    "collapsed": true
   },
   "outputs": [],
   "source": [
    "data = pd.read_csv('profiles.csv') ## Create DataFrame\n",
    "#essay_data = pd.read_csv('profiles.csv')"
   ]
  },
  {
   "cell_type": "markdown",
   "metadata": {},
   "source": [
    "### To make the data easier to work with later, lets create a key map for both the education and gender columns "
   ]
  },
  {
   "cell_type": "code",
   "execution_count": 5,
   "metadata": {
    "collapsed": true
   },
   "outputs": [],
   "source": [
    "educations = data.education.replace(np.nan, 'not_set', regex=True)\n",
    "educations = educations.sort_values().unique()\n",
    "\n",
    "counter = 0\n",
    "education_map = {}\n",
    "\n",
    "for education in educations:\n",
    "    education_map[education] = int(counter)\n",
    "    counter += 1\n",
    "\n",
    "data[\"education_code\"] = data.education.map(education_map)\n",
    "data = data[pd.notnull(data['education_code'])]\n",
    "data[\"education_code\"] = data.education_code.astype('int64')\n",
    "\n",
    "education_code = data[\"education_code\"]\n",
    "educations_code = education_code.replace(np.nan, 'not_set', regex=True)\n",
    "\n",
    "genders = data.sex.replace(np.nan, '', regex=True)\n",
    "genders = genders.sort_values().unique()\n",
    "\n",
    "counter = 0\n",
    "gender_map = {}\n",
    "\n",
    "for gender in genders:\n",
    "    gender_map[gender] = counter\n",
    "    counter += 1\n",
    "\n",
    "data[\"gender_code\"] = data.sex.map(gender_map)"
   ]
  },
  {
   "cell_type": "code",
   "execution_count": 6,
   "metadata": {},
   "outputs": [
    {
     "data": {
      "text/html": [
       "<div>\n",
       "<style>\n",
       "    .dataframe thead tr:only-child th {\n",
       "        text-align: right;\n",
       "    }\n",
       "\n",
       "    .dataframe thead th {\n",
       "        text-align: left;\n",
       "    }\n",
       "\n",
       "    .dataframe tbody tr th {\n",
       "        vertical-align: top;\n",
       "    }\n",
       "</style>\n",
       "<table border=\"1\" class=\"dataframe\">\n",
       "  <thead>\n",
       "    <tr style=\"text-align: right;\">\n",
       "      <th></th>\n",
       "      <th>age</th>\n",
       "      <th>body_type</th>\n",
       "      <th>diet</th>\n",
       "      <th>drinks</th>\n",
       "      <th>drugs</th>\n",
       "      <th>education</th>\n",
       "      <th>essay0</th>\n",
       "      <th>essay1</th>\n",
       "      <th>essay2</th>\n",
       "      <th>essay3</th>\n",
       "      <th>...</th>\n",
       "      <th>orientation</th>\n",
       "      <th>pets</th>\n",
       "      <th>religion</th>\n",
       "      <th>sex</th>\n",
       "      <th>sign</th>\n",
       "      <th>smokes</th>\n",
       "      <th>speaks</th>\n",
       "      <th>status</th>\n",
       "      <th>education_code</th>\n",
       "      <th>gender_code</th>\n",
       "    </tr>\n",
       "  </thead>\n",
       "  <tbody>\n",
       "    <tr>\n",
       "      <th>0</th>\n",
       "      <td>22</td>\n",
       "      <td>a little extra</td>\n",
       "      <td>strictly anything</td>\n",
       "      <td>socially</td>\n",
       "      <td>never</td>\n",
       "      <td>working on college/university</td>\n",
       "      <td>about me:&lt;br /&gt;\\n&lt;br /&gt;\\ni would love to think...</td>\n",
       "      <td>currently working as an international agent fo...</td>\n",
       "      <td>making people laugh.&lt;br /&gt;\\nranting about a go...</td>\n",
       "      <td>the way i look. i am a six foot half asian, ha...</td>\n",
       "      <td>...</td>\n",
       "      <td>straight</td>\n",
       "      <td>likes dogs and likes cats</td>\n",
       "      <td>agnosticism and very serious about it</td>\n",
       "      <td>m</td>\n",
       "      <td>gemini</td>\n",
       "      <td>sometimes</td>\n",
       "      <td>english</td>\n",
       "      <td>single</td>\n",
       "      <td>25</td>\n",
       "      <td>1</td>\n",
       "    </tr>\n",
       "    <tr>\n",
       "      <th>1</th>\n",
       "      <td>35</td>\n",
       "      <td>average</td>\n",
       "      <td>mostly other</td>\n",
       "      <td>often</td>\n",
       "      <td>sometimes</td>\n",
       "      <td>working on space camp</td>\n",
       "      <td>i am a chef: this is what that means.&lt;br /&gt;\\n1...</td>\n",
       "      <td>dedicating everyday to being an unbelievable b...</td>\n",
       "      <td>being silly. having ridiculous amonts of fun w...</td>\n",
       "      <td>NaN</td>\n",
       "      <td>...</td>\n",
       "      <td>straight</td>\n",
       "      <td>likes dogs and likes cats</td>\n",
       "      <td>agnosticism but not too serious about it</td>\n",
       "      <td>m</td>\n",
       "      <td>cancer</td>\n",
       "      <td>no</td>\n",
       "      <td>english (fluently), spanish (poorly), french (...</td>\n",
       "      <td>single</td>\n",
       "      <td>31</td>\n",
       "      <td>1</td>\n",
       "    </tr>\n",
       "    <tr>\n",
       "      <th>2</th>\n",
       "      <td>38</td>\n",
       "      <td>thin</td>\n",
       "      <td>anything</td>\n",
       "      <td>socially</td>\n",
       "      <td>NaN</td>\n",
       "      <td>graduated from masters program</td>\n",
       "      <td>i'm not ashamed of much, but writing public te...</td>\n",
       "      <td>i make nerdy software for musicians, artists, ...</td>\n",
       "      <td>improvising in different contexts. alternating...</td>\n",
       "      <td>my large jaw and large glasses are the physica...</td>\n",
       "      <td>...</td>\n",
       "      <td>straight</td>\n",
       "      <td>has cats</td>\n",
       "      <td>NaN</td>\n",
       "      <td>m</td>\n",
       "      <td>pisces but it doesn&amp;rsquo;t matter</td>\n",
       "      <td>no</td>\n",
       "      <td>english, french, c++</td>\n",
       "      <td>available</td>\n",
       "      <td>12</td>\n",
       "      <td>1</td>\n",
       "    </tr>\n",
       "    <tr>\n",
       "      <th>3</th>\n",
       "      <td>23</td>\n",
       "      <td>thin</td>\n",
       "      <td>vegetarian</td>\n",
       "      <td>socially</td>\n",
       "      <td>NaN</td>\n",
       "      <td>working on college/university</td>\n",
       "      <td>i work in a library and go to school. . .</td>\n",
       "      <td>reading things written by old dead people</td>\n",
       "      <td>playing synthesizers and organizing books acco...</td>\n",
       "      <td>socially awkward but i do my best</td>\n",
       "      <td>...</td>\n",
       "      <td>straight</td>\n",
       "      <td>likes cats</td>\n",
       "      <td>NaN</td>\n",
       "      <td>m</td>\n",
       "      <td>pisces</td>\n",
       "      <td>no</td>\n",
       "      <td>english, german (poorly)</td>\n",
       "      <td>single</td>\n",
       "      <td>25</td>\n",
       "      <td>1</td>\n",
       "    </tr>\n",
       "    <tr>\n",
       "      <th>4</th>\n",
       "      <td>29</td>\n",
       "      <td>athletic</td>\n",
       "      <td>NaN</td>\n",
       "      <td>socially</td>\n",
       "      <td>never</td>\n",
       "      <td>graduated from college/university</td>\n",
       "      <td>hey how's it going? currently vague on the pro...</td>\n",
       "      <td>work work work work + play</td>\n",
       "      <td>creating imagery to look at:&lt;br /&gt;\\nhttp://bag...</td>\n",
       "      <td>i smile a lot and my inquisitive nature</td>\n",
       "      <td>...</td>\n",
       "      <td>straight</td>\n",
       "      <td>likes dogs and likes cats</td>\n",
       "      <td>NaN</td>\n",
       "      <td>m</td>\n",
       "      <td>aquarius</td>\n",
       "      <td>no</td>\n",
       "      <td>english</td>\n",
       "      <td>single</td>\n",
       "      <td>9</td>\n",
       "      <td>1</td>\n",
       "    </tr>\n",
       "  </tbody>\n",
       "</table>\n",
       "<p>5 rows × 33 columns</p>\n",
       "</div>"
      ],
      "text/plain": [
       "   age       body_type               diet    drinks      drugs  \\\n",
       "0   22  a little extra  strictly anything  socially      never   \n",
       "1   35         average       mostly other     often  sometimes   \n",
       "2   38            thin           anything  socially        NaN   \n",
       "3   23            thin         vegetarian  socially        NaN   \n",
       "4   29        athletic                NaN  socially      never   \n",
       "\n",
       "                           education  \\\n",
       "0      working on college/university   \n",
       "1              working on space camp   \n",
       "2     graduated from masters program   \n",
       "3      working on college/university   \n",
       "4  graduated from college/university   \n",
       "\n",
       "                                              essay0  \\\n",
       "0  about me:<br />\\n<br />\\ni would love to think...   \n",
       "1  i am a chef: this is what that means.<br />\\n1...   \n",
       "2  i'm not ashamed of much, but writing public te...   \n",
       "3          i work in a library and go to school. . .   \n",
       "4  hey how's it going? currently vague on the pro...   \n",
       "\n",
       "                                              essay1  \\\n",
       "0  currently working as an international agent fo...   \n",
       "1  dedicating everyday to being an unbelievable b...   \n",
       "2  i make nerdy software for musicians, artists, ...   \n",
       "3          reading things written by old dead people   \n",
       "4                         work work work work + play   \n",
       "\n",
       "                                              essay2  \\\n",
       "0  making people laugh.<br />\\nranting about a go...   \n",
       "1  being silly. having ridiculous amonts of fun w...   \n",
       "2  improvising in different contexts. alternating...   \n",
       "3  playing synthesizers and organizing books acco...   \n",
       "4  creating imagery to look at:<br />\\nhttp://bag...   \n",
       "\n",
       "                                              essay3     ...     orientation  \\\n",
       "0  the way i look. i am a six foot half asian, ha...     ...        straight   \n",
       "1                                                NaN     ...        straight   \n",
       "2  my large jaw and large glasses are the physica...     ...        straight   \n",
       "3                  socially awkward but i do my best     ...        straight   \n",
       "4            i smile a lot and my inquisitive nature     ...        straight   \n",
       "\n",
       "                        pets                                  religion sex  \\\n",
       "0  likes dogs and likes cats     agnosticism and very serious about it   m   \n",
       "1  likes dogs and likes cats  agnosticism but not too serious about it   m   \n",
       "2                   has cats                                       NaN   m   \n",
       "3                 likes cats                                       NaN   m   \n",
       "4  likes dogs and likes cats                                       NaN   m   \n",
       "\n",
       "                                 sign     smokes  \\\n",
       "0                              gemini  sometimes   \n",
       "1                              cancer         no   \n",
       "2  pisces but it doesn&rsquo;t matter         no   \n",
       "3                              pisces         no   \n",
       "4                            aquarius         no   \n",
       "\n",
       "                                              speaks     status  \\\n",
       "0                                            english     single   \n",
       "1  english (fluently), spanish (poorly), french (...     single   \n",
       "2                               english, french, c++  available   \n",
       "3                           english, german (poorly)     single   \n",
       "4                                            english     single   \n",
       "\n",
       "   education_code gender_code  \n",
       "0              25           1  \n",
       "1              31           1  \n",
       "2              12           1  \n",
       "3              25           1  \n",
       "4               9           1  \n",
       "\n",
       "[5 rows x 33 columns]"
      ]
     },
     "execution_count": 6,
     "metadata": {},
     "output_type": "execute_result"
    }
   ],
   "source": [
    "data.head()"
   ]
  },
  {
   "cell_type": "code",
   "execution_count": 7,
   "metadata": {},
   "outputs": [
    {
     "name": "stderr",
     "output_type": "stream",
     "text": [
      "/home/jbard/anaconda3/envs/capstone/lib/python3.5/site-packages/ipykernel_launcher.py:4: UserWarning: Boolean Series key will be reindexed to match DataFrame index.\n",
      "  after removing the cwd from sys.path.\n",
      "/home/jbard/anaconda3/envs/capstone/lib/python3.5/site-packages/ipykernel_launcher.py:5: UserWarning: Boolean Series key will be reindexed to match DataFrame index.\n",
      "  \"\"\"\n"
     ]
    }
   ],
   "source": [
    "col = ['gender_code', 'sex', 'education_code', 'education', 'essay0']\n",
    "essay_data = data[col]\n",
    "essay_data = essay_data[pd.notnull(data['essay0'])]\n",
    "essay_data = essay_data[pd.notnull(data['gender_code'])]\n",
    "essay_data = essay_data[pd.notnull(data['education_code'])]\n",
    "\n",
    "essay_data.columns = col\n",
    "essay_data = essay_data.reset_index(drop=True)\n",
    "\n",
    "essay_data['essay0'] = data_therapy(essay_data['essay0'])"
   ]
  },
  {
   "cell_type": "code",
   "execution_count": 8,
   "metadata": {
    "scrolled": true
   },
   "outputs": [
    {
     "data": {
      "text/html": [
       "<div>\n",
       "<style>\n",
       "    .dataframe thead tr:only-child th {\n",
       "        text-align: right;\n",
       "    }\n",
       "\n",
       "    .dataframe thead th {\n",
       "        text-align: left;\n",
       "    }\n",
       "\n",
       "    .dataframe tbody tr th {\n",
       "        vertical-align: top;\n",
       "    }\n",
       "</style>\n",
       "<table border=\"1\" class=\"dataframe\">\n",
       "  <thead>\n",
       "    <tr style=\"text-align: right;\">\n",
       "      <th></th>\n",
       "      <th>gender_code</th>\n",
       "      <th>sex</th>\n",
       "      <th>education_code</th>\n",
       "      <th>education</th>\n",
       "      <th>essay0</th>\n",
       "    </tr>\n",
       "  </thead>\n",
       "  <tbody>\n",
       "    <tr>\n",
       "      <th>0</th>\n",
       "      <td>1</td>\n",
       "      <td>m</td>\n",
       "      <td>25</td>\n",
       "      <td>working on college/university</td>\n",
       "      <td>about me i would love to think that i was some...</td>\n",
       "    </tr>\n",
       "    <tr>\n",
       "      <th>1</th>\n",
       "      <td>1</td>\n",
       "      <td>m</td>\n",
       "      <td>31</td>\n",
       "      <td>working on space camp</td>\n",
       "      <td>i am a chef this is what that means 1 i am a w...</td>\n",
       "    </tr>\n",
       "    <tr>\n",
       "      <th>2</th>\n",
       "      <td>1</td>\n",
       "      <td>m</td>\n",
       "      <td>12</td>\n",
       "      <td>graduated from masters program</td>\n",
       "      <td>i'm not ashamed of much but writing public tex...</td>\n",
       "    </tr>\n",
       "    <tr>\n",
       "      <th>3</th>\n",
       "      <td>1</td>\n",
       "      <td>m</td>\n",
       "      <td>25</td>\n",
       "      <td>working on college/university</td>\n",
       "      <td>i work in a library and go to school</td>\n",
       "    </tr>\n",
       "    <tr>\n",
       "      <th>4</th>\n",
       "      <td>1</td>\n",
       "      <td>m</td>\n",
       "      <td>9</td>\n",
       "      <td>graduated from college/university</td>\n",
       "      <td>hey how's it going currently vague on the prof...</td>\n",
       "    </tr>\n",
       "    <tr>\n",
       "      <th>5</th>\n",
       "      <td>1</td>\n",
       "      <td>m</td>\n",
       "      <td>9</td>\n",
       "      <td>graduated from college/university</td>\n",
       "      <td>i'm an australian living in san francisco but ...</td>\n",
       "    </tr>\n",
       "    <tr>\n",
       "      <th>6</th>\n",
       "      <td>0</td>\n",
       "      <td>f</td>\n",
       "      <td>9</td>\n",
       "      <td>graduated from college/university</td>\n",
       "      <td>life is about the little things i love to laug...</td>\n",
       "    </tr>\n",
       "    <tr>\n",
       "      <th>7</th>\n",
       "      <td>1</td>\n",
       "      <td>m</td>\n",
       "      <td>32</td>\n",
       "      <td>working on two-year college</td>\n",
       "      <td>my names jake i'm a creative guy and i look fo...</td>\n",
       "    </tr>\n",
       "    <tr>\n",
       "      <th>8</th>\n",
       "      <td>1</td>\n",
       "      <td>m</td>\n",
       "      <td>9</td>\n",
       "      <td>graduated from college/university</td>\n",
       "      <td>i was born in wisconsin grew up in iowa and mo...</td>\n",
       "    </tr>\n",
       "    <tr>\n",
       "      <th>9</th>\n",
       "      <td>1</td>\n",
       "      <td>m</td>\n",
       "      <td>28</td>\n",
       "      <td>working on masters program</td>\n",
       "      <td>i just moved to the bay area from austin tx or...</td>\n",
       "    </tr>\n",
       "  </tbody>\n",
       "</table>\n",
       "</div>"
      ],
      "text/plain": [
       "   gender_code sex  education_code                          education  \\\n",
       "0            1   m              25      working on college/university   \n",
       "1            1   m              31              working on space camp   \n",
       "2            1   m              12     graduated from masters program   \n",
       "3            1   m              25      working on college/university   \n",
       "4            1   m               9  graduated from college/university   \n",
       "5            1   m               9  graduated from college/university   \n",
       "6            0   f               9  graduated from college/university   \n",
       "7            1   m              32        working on two-year college   \n",
       "8            1   m               9  graduated from college/university   \n",
       "9            1   m              28         working on masters program   \n",
       "\n",
       "                                              essay0  \n",
       "0  about me i would love to think that i was some...  \n",
       "1  i am a chef this is what that means 1 i am a w...  \n",
       "2  i'm not ashamed of much but writing public tex...  \n",
       "3               i work in a library and go to school  \n",
       "4  hey how's it going currently vague on the prof...  \n",
       "5  i'm an australian living in san francisco but ...  \n",
       "6  life is about the little things i love to laug...  \n",
       "7  my names jake i'm a creative guy and i look fo...  \n",
       "8  i was born in wisconsin grew up in iowa and mo...  \n",
       "9  i just moved to the bay area from austin tx or...  "
      ]
     },
     "execution_count": 8,
     "metadata": {},
     "output_type": "execute_result"
    }
   ],
   "source": [
    "essay_data.head(n=10)"
   ]
  },
  {
   "cell_type": "markdown",
   "metadata": {},
   "source": [
    "---\n",
    "\n",
    "# Data Analysis\n",
    "\n",
    "---\n",
    "\n",
    "## Gender Analysis"
   ]
  },
  {
   "cell_type": "code",
   "execution_count": 9,
   "metadata": {
    "collapsed": true
   },
   "outputs": [],
   "source": [
    "male_count, female_count = data['sex'].value_counts()\n",
    "gender_data = data['sex'].value_counts()\n",
    "male_by_age = data.loc[data['sex'] == 'm'].groupby('age').count()['sex']\n",
    "female_by_age = data.loc[data['sex'] == 'f'].groupby('age').count()['sex']"
   ]
  },
  {
   "cell_type": "code",
   "execution_count": 10,
   "metadata": {
    "scrolled": false
   },
   "outputs": [
    {
     "data": {
      "text/plain": [
       "<matplotlib.axes._subplots.AxesSubplot at 0x7fe8f956dcf8>"
      ]
     },
     "execution_count": 10,
     "metadata": {},
     "output_type": "execute_result"
    },
    {
     "data": {
      "image/png": "[encoded data removed]",
      "text/plain": [
       "<matplotlib.figure.Figure at 0x7fe92c2ae048>"
      ]
     },
     "metadata": {},
     "output_type": "display_data"
    }
   ],
   "source": [
    "plt.title(\"Gender\")\n",
    "gender_data.plot.pie(labels=['Men', 'Women'], colors=['blue', '#FF1493'], figsize=(8,8))"
   ]
  },
  {
   "cell_type": "code",
   "execution_count": 11,
   "metadata": {
    "collapsed": true
   },
   "outputs": [],
   "source": [
    "objects = ('Men', 'Women')\n",
    "y_pos = np.arange(len(objects))"
   ]
  },
  {
   "cell_type": "code",
   "execution_count": 12,
   "metadata": {},
   "outputs": [
    {
     "data": {
      "text/plain": [
       "<matplotlib.text.Text at 0x7fe8fb67cac8>"
      ]
     },
     "execution_count": 12,
     "metadata": {},
     "output_type": "execute_result"
    },
    {
     "data": {
      "image/png": "[encoded data removed]",
      "text/plain": [
       "<matplotlib.figure.Figure at 0x7fe8f67d6a58>"
      ]
     },
     "metadata": {},
     "output_type": "display_data"
    }
   ],
   "source": [
    "plt.bar(y_pos, [male_count, female_count], color=['blue','#FF1493'], align='center', alpha=0.5)\n",
    "plt.xticks(y_pos, objects)\n",
    "plt.ylabel('Frequency')\n",
    "plt.title('Gender')"
   ]
  },
  {
   "cell_type": "code",
   "execution_count": 13,
   "metadata": {
    "scrolled": true
   },
   "outputs": [
    {
     "data": {
      "text/plain": [
       "<matplotlib.text.Text at 0x7fe8fbb14c88>"
      ]
     },
     "execution_count": 13,
     "metadata": {},
     "output_type": "execute_result"
    },
    {
     "data": {
      "image/png": "[encoded data removed]",
      "text/plain": [
       "<matplotlib.figure.Figure at 0x7fe8fbb19320>"
      ]
     },
     "metadata": {},
     "output_type": "display_data"
    }
   ],
   "source": [
    "plt.plot(male_by_age, '+', color='blue')\n",
    "plt.plot(female_by_age, '+', color='#FF1493')\n",
    "plt.legend(['Men', 'Women'])\n",
    "plt.xlabel('Age')\n",
    "plt.ylabel('Frequency')"
   ]
  },
  {
   "cell_type": "markdown",
   "metadata": {},
   "source": [
    "### Results\n",
    "We can clearly see that overall, more men than women are in the data set but have also specifically narrowed down the male to female ratio based off of age. \n",
    "\n",
    "\n",
    "---\n",
    "\n",
    "\n",
    "## Income Analysis"
   ]
  },
  {
   "cell_type": "code",
   "execution_count": 14,
   "metadata": {},
   "outputs": [
    {
     "data": {
      "text/plain": [
       "-1          42535\n",
       " 20000       2795\n",
       " 100000      1534\n",
       " 80000       1031\n",
       " 30000        965\n",
       " 40000        929\n",
       " 50000        902\n",
       " 60000        689\n",
       " 70000        665\n",
       " 150000       605\n",
       " 1000000      490\n",
       " 250000       133\n",
       " 500000        45\n",
       "Name: income, dtype: int64"
      ]
     },
     "execution_count": 14,
     "metadata": {},
     "output_type": "execute_result"
    }
   ],
   "source": [
    "x_data = data['income'].sort_values().value_counts()\n",
    "y_data = data['income'].value_counts().index.tolist()\n",
    "\n",
    "y_pos = np.arange(len(y_data))\n",
    "x_data"
   ]
  },
  {
   "cell_type": "code",
   "execution_count": 15,
   "metadata": {},
   "outputs": [
    {
     "data": {
      "text/plain": [
       "<matplotlib.text.Text at 0x7fe8fb5c3978>"
      ]
     },
     "execution_count": 15,
     "metadata": {},
     "output_type": "execute_result"
    },
    {
     "data": {
      "image/png": "[encoded data removed]",
      "text/plain": [
       "<matplotlib.figure.Figure at 0x7fe8fbb17e10>"
      ]
     },
     "metadata": {},
     "output_type": "display_data"
    }
   ],
   "source": [
    "plt.bar(y_pos, x_data)\n",
    "plt.xticks(y_pos, y_data, rotation=90)\n",
    "plt.ylabel('# Of People')\n",
    "plt.xlabel('Income')"
   ]
  },
  {
   "cell_type": "markdown",
   "metadata": {
    "collapsed": true
   },
   "source": [
    "### Results\n",
    "After analyzing the income data, it seems that the vast majority of everyone choose to not provide their income level. These findings suggest it will likely be very difficult to create accurate predictions of individual income based off of any other metric in the data set.\n",
    "\n",
    "---\n",
    "## Education Analysis"
   ]
  },
  {
   "cell_type": "code",
   "execution_count": 16,
   "metadata": {
    "collapsed": true
   },
   "outputs": [],
   "source": [
    "education_x = data['education'].value_counts()\n",
    "education_y = data['education'].value_counts().index.tolist()\n",
    "\n",
    "education_y_pos = np.arange(len(education_y))"
   ]
  },
  {
   "cell_type": "code",
   "execution_count": 17,
   "metadata": {},
   "outputs": [
    {
     "data": {
      "text/plain": [
       "graduated from college/university    23959\n",
       "graduated from masters program        8961\n",
       "working on college/university         5712\n",
       "working on masters program            1683\n",
       "graduated from two-year college       1531\n",
       "graduated from high school            1428\n",
       "graduated from ph.d program           1272\n",
       "graduated from law school             1122\n",
       "working on two-year college           1074\n",
       "dropped out of college/university      995\n",
       "working on ph.d program                983\n",
       "college/university                     801\n",
       "graduated from space camp              657\n",
       "dropped out of space camp              523\n",
       "graduated from med school              446\n",
       "working on space camp                  445\n",
       "working on law school                  269\n",
       "two-year college                       222\n",
       "working on med school                  212\n",
       "dropped out of two-year college        191\n",
       "dropped out of masters program         140\n",
       "masters program                        136\n",
       "dropped out of ph.d program            127\n",
       "dropped out of high school             102\n",
       "high school                             96\n",
       "working on high school                  87\n",
       "space camp                              58\n",
       "ph.d program                            26\n",
       "law school                              19\n",
       "dropped out of law school               18\n",
       "dropped out of med school               12\n",
       "med school                              11\n",
       "Name: education, dtype: int64"
      ]
     },
     "execution_count": 17,
     "metadata": {},
     "output_type": "execute_result"
    }
   ],
   "source": [
    "education_x"
   ]
  },
  {
   "cell_type": "code",
   "execution_count": 18,
   "metadata": {},
   "outputs": [
    {
     "data": {
      "text/plain": [
       "<matplotlib.text.Text at 0x7fe8fb54f438>"
      ]
     },
     "execution_count": 18,
     "metadata": {},
     "output_type": "execute_result"
    },
    {
     "data": {
      "image/png": "[encoded data removed]",
      "text/plain": [
       "<matplotlib.figure.Figure at 0x7fe8fb56e9e8>"
      ]
     },
     "metadata": {},
     "output_type": "display_data"
    }
   ],
   "source": [
    "plt.bar(education_y_pos, education_x)\n",
    "plt.xticks(education_y_pos, education_y, rotation=90)\n",
    "plt.ylabel('# Of People')\n",
    "plt.xlabel('Education Level')"
   ]
  },
  {
   "cell_type": "code",
   "execution_count": 19,
   "metadata": {},
   "outputs": [
    {
     "data": {
      "text/plain": [
       "<matplotlib.axes._subplots.AxesSubplot at 0x7fe8f69a3f28>"
      ]
     },
     "execution_count": 19,
     "metadata": {},
     "output_type": "execute_result"
    },
    {
     "data": {
      "image/png": "[encoded data removed]",
      "text/plain": [
       "<matplotlib.figure.Figure at 0x7fe8fbb80f98>"
      ]
     },
     "metadata": {},
     "output_type": "display_data"
    }
   ],
   "source": [
    "education_x.plot.pie(labels=education_y, figsize=(10,10))"
   ]
  },
  {
   "cell_type": "markdown",
   "metadata": {},
   "source": [
    "### Results\n",
    "It seems that \"graduated from college/university\" and \"graduated from masters program\" have the most data counts but there seems to be enough diversity that we can try to predict education level.\n",
    "\n",
    "\n",
    "---\n",
    "\n",
    "# Training\n",
    "One common approach for extracting features from text is to use the bag of words model: a model where for each document, a complaint narrative in our case, the presence (and often the frequency) of words is taken into consideration, but the order in which they occur is ignored.\n",
    "\n",
    "Specifically, for each term in our dataset, we will calculate a measure called Term Frequency, Inverse Document Frequency, abbreviated to tf-idf. We will use sklearn.feature_extraction.text.TfidfVectorizer to calculate a tf-idf vector for each of consumer complaint narratives:\n",
    "\n",
    "---\n",
    "\n",
    "## Let's first attempt to work with our Gender data"
   ]
  },
  {
   "cell_type": "code",
   "execution_count": 20,
   "metadata": {
    "collapsed": true
   },
   "outputs": [],
   "source": [
    "tfidf = TfidfVectorizer(sublinear_tf=True, min_df=5, norm='l2', encoding='latin-1', ngram_range=(1, 2), stop_words='english')\n",
    "features = tfidf.fit_transform(essay_data['essay0']).toarray()"
   ]
  },
  {
   "cell_type": "code",
   "execution_count": 22,
   "metadata": {},
   "outputs": [
    {
     "data": {
      "text/plain": [
       "(48885, 87975)"
      ]
     },
     "execution_count": 22,
     "metadata": {},
     "output_type": "execute_result"
    }
   ],
   "source": [
    "gender_labels = essay_data['sex'].factorize()[0]\n",
    "gender_id_df = essay_data[['sex', 'gender_code']].drop_duplicates().sort_values('gender_code')\n",
    "gender_to_id = dict(gender_id_df.values)\n",
    "\n",
    "education_labels = essay_data['education'].factorize()[0]\n",
    "education_id_df = essay_data[['education', 'education_code']].drop_duplicates().sort_values('education_code')\n",
    "education_to_id = dict(education_id_df.values)\n",
    "\n",
    "features.shape"
   ]
  },
  {
   "cell_type": "code",
   "execution_count": 23,
   "metadata": {},
   "outputs": [
    {
     "name": "stdout",
     "output_type": "stream",
     "text": [
      "# 'f':\n",
      "     . Most correlated unigrams:\n",
      ". sassy\n",
      ". gal\n",
      ". love\n",
      ". girl\n",
      ". guy\n",
      "     . Most correlated bigrams:\n",
      ". nice guy\n",
      ". girl loves\n",
      ". going guy\n",
      ". guy looking\n",
      ". love laugh\n",
      "\n",
      "# 'm':\n",
      "     . Most correlated unigrams:\n",
      ". frightening\n",
      ". unknowns\n",
      ". obstacles\n",
      ". diagnose\n",
      ". firing\n",
      "     . Most correlated bigrams:\n",
      ". haven gone\n",
      ". ben jerry\n",
      ". common enjoy\n",
      ". likely just\n",
      ". dc year\n",
      "\n"
     ]
    }
   ],
   "source": [
    "N = 5\n",
    "    \n",
    "for sex, gender_code in sorted(gender_to_id.items()):\n",
    "  features_chi2 = chi2(features, gender_labels == gender_code)\n",
    "  indices = np.argsort(features_chi2[gender_code])\n",
    "  feature_names = np.array(tfidf.get_feature_names())[indices]\n",
    "  unigrams = [v for v in feature_names if len(v.split(' ')) == 1]\n",
    "  bigrams = [v for v in feature_names if len(v.split(' ')) == 2]\n",
    "  print(\"# '{}':\".format(sex))\n",
    "  print(\"     . Most correlated unigrams:\\n. {}\".format('\\n. '.join(unigrams[-N:])))\n",
    "  print(\"     . Most correlated bigrams:\\n. {}\".format('\\n. '.join(bigrams[-N:])))\n",
    "  print()"
   ]
  },
  {
   "cell_type": "code",
   "execution_count": 26,
   "metadata": {
    "collapsed": true
   },
   "outputs": [],
   "source": [
    "x_train, x_test, y_train, y_test = train_test_split(essay_data['essay0'], essay_data['sex'], random_state = 0)\n",
    "count_vect = CountVectorizer()\n",
    "x_train_counts = count_vect.fit_transform(x_train)\n",
    "tfidf_transformer = TfidfTransformer()\n",
    "x_train_tfidf = tfidf_transformer.fit_transform(x_train_counts)\n",
    "\n",
    "x_test_counts = count_vect.transform(x_test)\n",
    "x_test_tfidf = tfidf_transformer.transform(x_test_counts)\n",
    "\n",
    "classifier = MultinomialNB().fit(x_train_tfidf, y_train)"
   ]
  },
  {
   "cell_type": "code",
   "execution_count": 28,
   "metadata": {
    "scrolled": false
   },
   "outputs": [
    {
     "name": "stdout",
     "output_type": "stream",
     "text": [
      "Essay Response:\n",
      "i'm an astute girl who enjoys warm and quick witted but not empty bantering individuals i happen to be a wordnerd and happen to be working on a phd in literature eww grad student i know so a good dose of humor of both the high and lowbrow sort is always welcomed in my life i like sincerity but not sentimentalism i appreciate simplicity but not smallness i like pork products some of my interests include archaic words cockney slang rhyme chicago blues cook offs sea things the open road semaphores provocative furniture the quirky and slightly offbeat i am agile prismatic and playful\n",
      "-----------------------------\n",
      "Prediction: f\n",
      "Actual    : f\n",
      "\n",
      "Essay Response:\n",
      "after five years on the east coast i guess it's only appropriate for me to head out to the golden coast i recently joined a start up in san francisco i know super original right i'm the sixth employee and helping out with the company's marketing program it's completely different from the previous finance jobs i had in nyc and miami don't worry i'm not a heat fan the last five years i'm super stoked that's the right cali term right to be moving to san francisco and trying something different the whole south beach euro latino scene was never really my thing i love being active guess that makes sf perfect for me i enjoy running in fact i have a 12 person 200 mile relay race from madison wisconsin to chicago scheduled for two weeks from now so getting a bit nervous i'm looking forward to taking advantage of tahoe hiking and everything else sf has to offer otherwise i'm into dancing acting ridiculous checking out new flicks water sports trying new restaurants reading cooking and volunteering i'm a pretty ambitious person who likes to be challenged but yet i'd like to think i'm still grounded and have a good head on my shoulders\n",
      "-----------------------------\n",
      "Prediction: m\n",
      "Actual    : m\n",
      "\n",
      "Essay Response:\n",
      "my friends call me joe i'm a creative person and i love to make new things out of whatever is handy i have been told i could sell my work but i mostly give it out to friends and loved ones i am very artistic have been since i was a little one i can't wait till i get some new idea to spark the creation of something new but that's now i am and happy to be that way\n",
      "-----------------------------\n",
      "Prediction: m\n",
      "Actual    : m\n",
      "\n",
      "Essay Response:\n",
      "i'm from the bay area i don't take life too seriously fun love and happiness are things that drive me on a daily basis camping hiking biking concerts if its outside i love it even just grabbing some friends and going to a park or sunny backyard to crack a beer works for me i enjoy meeting new people and am not afraid to strike up a conversation with someone i've never met i've traveled around a lot mainly to go mountain biking in beautiful places but look forward to doing more leisure travel hopefully in asia and more of europe i consider myself a budding woodworker aspiring photographer amature cook and a decent artist\n",
      "-----------------------------\n",
      "Prediction: m\n",
      "Actual    : m\n",
      "\n",
      "Essay Response:\n",
      "a modern romantic who's sometimes a realist but who's always sarcastic honest and opinionated thoroughly liberal a poet and a song bird who hums without realizing it i love good food and good deals and good company i love thrifting and antiquing i believe ever day is an excuse to dress up i'm an artist and i love to draw i like claw machines cookie dough and word searches i'm going to college for fashion merchandising and spend a remarkable amount of time cogitating the connection between clothes and character i hate roses and shrimp and people who think they're better than me i talk during movies i dance while i cook and i sometimes pick flowers from public places and then feel bad about it i miss naptimes and i miss water parks and laser tag and chasing down ice cream trucks even though i didn't know what i wanted to buy i love not quite ripe nectarines and mountains of pillows and the way my dog lays her head on my shoulder i believe in indulging and enduring and embracing and remembering and creating and always always always hoping i want to make forts and have picnics and play so lame they're awesome board games i want to rent awful movies and make cupcakes and camp out on the floor for an entire evening i've been burned and spurned and spent way too long being told i intimidate men too much for them to approach me personal motto we are not defined by circumstance instead we are defined in the aftermath by how we have dealt with them one of my favorite quotes i must learn to love the fool in me the one who feels too much talks too much takes too many chances wins sometimes and loses often lacks self control loves &amp hates hurts and gets hurt promises and breaks promises laughs &amp cries it alone protects me against that utterly self controlled masterful tyrant whom i also harbor and who would rob me of human aliveness humility and dignity but for my fool theodore rubin\n",
      "-----------------------------\n",
      "Prediction: m\n",
      "Actual    : f\n",
      "\n"
     ]
    }
   ],
   "source": [
    "random_list_for_gender_test = [23985, 32768, 3161, 20330, 25112]\n",
    "\n",
    "for i in random_list_for_gender_test:\n",
    "    print (\"Essay Response:\")\n",
    "    print (x_test[i])\n",
    "    print (\"-----------------------------\")\n",
    "    print (\"Prediction: \"+str(classifier.predict(count_vect.transform([x_test[i]]))[0]))\n",
    "    print (\"Actual    : \"+y_test[i])\n",
    "    print ()"
   ]
  },
  {
   "cell_type": "code",
   "execution_count": 29,
   "metadata": {},
   "outputs": [
    {
     "name": "stdout",
     "output_type": "stream",
     "text": [
      "Accuracy: 0.621420389462\n"
     ]
    }
   ],
   "source": [
    "print (\"Accuracy: \"+str(classifier.score(x_test_tfidf, y_test)))"
   ]
  },
  {
   "cell_type": "code",
   "execution_count": 25,
   "metadata": {
    "scrolled": true
   },
   "outputs": [
    {
     "name": "stdout",
     "output_type": "stream",
     "text": [
      "# 'college/university':\n",
      "     . Most correlated unigrams:\n",
      ". sfsu\n",
      ". im\n",
      ". studying\n",
      ". majoring\n",
      ". student\n",
      "     . Most correlated bigrams:\n",
      ". academy art\n",
      ". currently student\n",
      ". going school\n",
      ". time student\n",
      ". college student\n",
      "\n",
      "# 'dropped out of college/university':\n",
      "     . Most correlated unigrams:\n",
      ". paved\n",
      ". cheeseburger\n",
      ". 1983\n",
      ". shits\n",
      ". winging\n",
      "     . Most correlated bigrams:\n",
      ". thought look\n",
      ". went new\n",
      ". hate sitting\n",
      ". nice try\n",
      ". wanna friends\n",
      "\n",
      "# 'dropped out of high school':\n",
      "     . Most correlated unigrams:\n",
      ". master\n",
      ". india\n",
      ". masters\n",
      ". mba\n",
      ". im\n",
      "     . Most correlated bigrams:\n",
      ". masters degree\n",
      ". got master\n",
      ". master degree\n",
      ". business school\n",
      ". grad school\n",
      "\n",
      "# 'dropped out of law school':\n",
      "     . Most correlated unigrams:\n",
      ". school\n",
      ". phd\n",
      ". graduated\n",
      ". im\n",
      ". student\n",
      "     . Most correlated bigrams:\n",
      ". went school\n",
      ". time student\n",
      ". college student\n",
      ". graduated college\n",
      ". grad school\n",
      "\n",
      "# 'dropped out of masters program':\n",
      "     . Most correlated unigrams:\n",
      ". poppin\n",
      ". wouldnt\n",
      ". undecided\n",
      ". revision\n",
      ". im\n",
      "     . Most correlated bigrams:\n",
      ". obvious stuff\n",
      ". student city\n",
      ". love girls\n",
      ". going school\n",
      ". city college\n",
      "\n",
      "# 'dropped out of med school':\n",
      "     . Most correlated unigrams:\n",
      ". mfa\n",
      ". student\n",
      ". mba\n",
      ". grad\n",
      ". masters\n",
      "     . Most correlated bigrams:\n",
      ". mba student\n",
      ". masters program\n",
      ". getting masters\n",
      ". working masters\n",
      ". grad student\n",
      "\n",
      "# 'dropped out of ph.d program':\n",
      "     . Most correlated unigrams:\n",
      ". patsy\n",
      ". essay\n",
      ". charged\n",
      ". ahhhh\n",
      ". nifty\n",
      "     . Most correlated bigrams:\n",
      ". space camp\n",
      ". life form\n",
      ". ll wait\n",
      ". damn thing\n",
      ". best guy\n",
      "\n",
      "# 'dropped out of space camp':\n",
      "     . Most correlated unigrams:\n",
      ". imagined\n",
      ". badger\n",
      ". sitcom\n",
      ". accumulating\n",
      ". ergo\n",
      "     . Most correlated bigrams:\n",
      ". creating living\n",
      ". things tall\n",
      ". life box\n",
      ". stay true\n",
      ". yay area\n",
      "\n",
      "# 'dropped out of two-year college':\n",
      "     . Most correlated unigrams:\n",
      ". statue\n",
      ". dam\n",
      ". toothless\n",
      ". ore\n",
      ". geez\n",
      "     . Most correlated bigrams:\n",
      ". nerd fun\n",
      ". probably didn\n",
      ". mixed world\n",
      ". place oakland\n",
      ". cuz im\n",
      "\n",
      "# 'graduated from college/university':\n",
      "     . Most correlated unigrams:\n",
      ". professor\n",
      ". psychologist\n",
      ". phd\n",
      ". scientist\n",
      ". postdoc\n",
      "     . Most correlated bigrams:\n",
      ". late want\n",
      ". traveling interesting\n",
      ". post doc\n",
      ". got phd\n",
      ". finished phd\n",
      "\n",
      "# 'graduated from high school':\n",
      "     . Most correlated unigrams:\n",
      ". exam\n",
      ". copied\n",
      ". attorney\n",
      ". law\n",
      ". lawyer\n",
      "     . Most correlated bigrams:\n",
      ". bar exam\n",
      ". went law\n",
      ". lawyer like\n",
      ". graduated law\n",
      ". law school\n",
      "\n",
      "# 'graduated from law school':\n",
      "     . Most correlated unigrams:\n",
      ". doctoral\n",
      ". student\n",
      ". grad\n",
      ". ph\n",
      ". phd\n",
      "     . Most correlated bigrams:\n",
      ". phd candidate\n",
      ". working phd\n",
      ". grad student\n",
      ". phd student\n",
      ". graduate student\n",
      "\n",
      "# 'graduated from masters program':\n",
      "     . Most correlated unigrams:\n",
      ". wishful\n",
      ". stanley\n",
      ". signing\n",
      ". tryin\n",
      ". bestfriend\n",
      "     . Most correlated bigrams:\n",
      ". ok im\n",
      ". fantastic person\n",
      ". guy ambitious\n",
      ". caring man\n",
      ". heart stomach\n",
      "\n",
      "# 'graduated from med school':\n",
      "     . Most correlated unigrams:\n",
      ". understandable\n",
      ". foward\n",
      ". conspire\n",
      ". shuffling\n",
      ". im\n",
      "     . Most correlated bigrams:\n",
      ". employed time\n",
      ". berkeley girl\n",
      ". tell say\n",
      ". giving caring\n",
      ". need think\n",
      "\n",
      "# 'graduated from ph.d program':\n",
      "     . Most correlated unigrams:\n",
      ". ucsf\n",
      ". generalizations\n",
      ". scant\n",
      ". medical\n",
      ". med\n",
      "     . Most correlated bigrams:\n",
      ". medical student\n",
      ". la girl\n",
      ". med student\n",
      ". medical school\n",
      ". med school\n",
      "\n",
      "# 'graduated from space camp':\n",
      "     . Most correlated unigrams:\n",
      ". ostensibly\n",
      ". dropped\n",
      ". curmudgeon\n",
      ". typed\n",
      ". curmudgeonly\n",
      "     . Most correlated bigrams:\n",
      ". startup founder\n",
      ". sorry folks\n",
      ". ll days\n",
      ". coffee maybe\n",
      ". unique just\n",
      "\n",
      "# 'graduated from two-year college':\n",
      "     . Most correlated unigrams:\n",
      ". disobedience\n",
      ". friedrich\n",
      ". rebel\n",
      ". swingers\n",
      ". jaws\n",
      "     . Most correlated bigrams:\n",
      ". sarcastic opinionated\n",
      ". funny laugh\n",
      ". time moment\n",
      ". simple complicated\n",
      ". does want\n",
      "\n",
      "# 'high school':\n",
      "     . Most correlated unigrams:\n",
      ". medicine\n",
      ". veterinarian\n",
      ". physician\n",
      ". medical\n",
      ". residency\n",
      "     . Most correlated bigrams:\n",
      ". california transplant\n",
      ". medical school\n",
      ". outgoing kind\n",
      ". med school\n",
      ". medical doctor\n",
      "\n",
      "# 'law school':\n",
      "     . Most correlated unigrams:\n",
      ". txt\n",
      ". dont\n",
      ". kno\n",
      ". becky\n",
      ". im\n",
      "     . Most correlated bigrams:\n",
      ". plain simple\n",
      ". loyal man\n",
      ". ask wanna\n",
      ". just ask\n",
      ". hi becky\n",
      "\n",
      "# 'masters program':\n",
      "     . Most correlated unigrams:\n",
      ". primate\n",
      ". durable\n",
      ". catastrophe\n",
      ". cougar\n",
      ". whoop\n",
      "     . Most correlated bigrams:\n",
      ". humble loving\n",
      ". thing trying\n",
      ". really interesting\n",
      ". hardcore gamer\n",
      ". good teeth\n",
      "\n",
      "# 'med school':\n",
      "     . Most correlated unigrams:\n",
      ". hmu\n",
      ". reel\n",
      ". 18\n",
      ". 510\n",
      ". highschool\n",
      "     . Most correlated bigrams:\n",
      ". music musician\n",
      ". strings attached\n",
      ". guy site\n",
      ". need need\n",
      ". im 18\n",
      "\n",
      "# 'ph.d program':\n",
      "     . Most correlated unigrams:\n",
      ". sonic\n",
      ". turquoise\n",
      ". 17th\n",
      ". seventies\n",
      ". bolivian\n",
      "     . Most correlated bigrams:\n",
      ". going stay\n",
      ". adventurous playful\n",
      ". working nice\n",
      ". artistic intellectual\n",
      ". sure actually\n",
      "\n",
      "# 'space camp':\n",
      "     . Most correlated unigrams:\n",
      ". persue\n",
      ". warhol\n",
      ". zagging\n",
      ". bam\n",
      ". pow\n",
      "     . Most correlated bigrams:\n",
      ". like friendship\n",
      ". dive deep\n",
      ". life dream\n",
      ". hate small\n",
      ". im hella\n",
      "\n",
      "# 'two-year college':\n",
      "     . Most correlated unigrams:\n",
      ". unpack\n",
      ". suffered\n",
      ". someones\n",
      ". miserably\n",
      ". grrrl\n",
      "     . Most correlated bigrams:\n",
      ". compassion class\n",
      ". recently divorced\n",
      ". ago midwest\n",
      ". progress profile\n",
      ". documentaries bored\n",
      "\n",
      "# 'working on college/university':\n",
      "     . Most correlated unigrams:\n",
      ". kin\n",
      ". mover\n",
      ". loner\n",
      ". bak\n",
      ". modifications\n",
      "     . Most correlated bigrams:\n",
      ". zodiac sign\n",
      ". friendly looking\n",
      ". look know\n",
      ". lucky woman\n",
      ". simple really\n",
      "\n",
      "# 'working on high school':\n",
      "     . Most correlated unigrams:\n",
      ". hoe\n",
      ". fo\n",
      ". snoop\n",
      ". ip\n",
      ". law\n",
      "     . Most correlated bigrams:\n",
      ". going law\n",
      ". nice important\n",
      ". law school\n",
      ". year law\n",
      ". law student\n",
      "\n",
      "# 'working on law school':\n",
      "     . Most correlated unigrams:\n",
      ". enforcement\n",
      ". astrology\n",
      ". restroom\n",
      ". tastefully\n",
      ". factories\n",
      "     . Most correlated bigrams:\n",
      ". crazy smart\n",
      ". sailboat racing\n",
      ". man fit\n",
      ". strong think\n",
      ". sports loving\n",
      "\n",
      "# 'working on masters program':\n",
      "     . Most correlated unigrams:\n",
      ". garish\n",
      ". dent\n",
      ". presumably\n",
      ". refine\n",
      ". disarmingly\n",
      "     . Most correlated bigrams:\n",
      ". knows great\n",
      ". work sleep\n",
      ". working saving\n",
      ". despite best\n",
      ". hopefully life\n",
      "\n",
      "# 'working on med school':\n",
      "     . Most correlated unigrams:\n",
      ". 89\n",
      ". romeo\n",
      ". advocacy\n",
      ". covet\n",
      ". cashier\n",
      "     . Most correlated bigrams:\n",
      ". valley looking\n",
      ". funny curious\n",
      ". wanted grow\n",
      ". company valley\n",
      ". educated funny\n",
      "\n",
      "# 'working on ph.d program':\n",
      "     . Most correlated unigrams:\n",
      ". interweb\n",
      ". relive\n",
      ". recursive\n",
      ". pumpkin\n",
      ". investigator\n",
      "     . Most correlated bigrams:\n",
      ". creative career\n",
      ". travels taken\n",
      ". profile open\n",
      ". secret life\n",
      ". looks just\n",
      "\n",
      "# 'working on space camp':\n",
      "     . Most correlated unigrams:\n",
      ". decently\n",
      ". garrison\n",
      ". keillor\n",
      ". refresh\n",
      ". facades\n",
      "     . Most correlated bigrams:\n",
      ". person choose\n",
      ". time athletic\n",
      ". attractive fun\n",
      ". travel active\n",
      ". fit attractive\n",
      "\n",
      "# 'working on two-year college':\n",
      "     . Most correlated unigrams:\n",
      ". glee\n",
      ". glimpse\n",
      ". gold\n",
      ". goings\n",
      ". zydeco\n",
      "     . Most correlated bigrams:\n",
      ". going hikes\n",
      ". going hike\n",
      ". going high\n",
      ". going hell\n",
      ". going honest\n",
      "\n"
     ]
    }
   ],
   "source": [
    "N = 5\n",
    "    \n",
    "for education, education_code in sorted(education_to_id.items()):\n",
    "    features_chi2 = chi2(features, education_labels == education_code)\n",
    "    indices = np.argsort(features_chi2[0])\n",
    "    feature_names = np.array(tfidf.get_feature_names())[indices]\n",
    "    unigrams = [v for v in feature_names if len(v.split(' ')) == 1]\n",
    "    bigrams = [v for v in feature_names if len(v.split(' ')) == 2]\n",
    "    print(\"# '{}':\".format(education))\n",
    "    print(\"     . Most correlated unigrams:\\n. {}\".format('\\n. '.join(unigrams[-N:])))\n",
    "    print(\"     . Most correlated bigrams:\\n. {}\".format('\\n. '.join(bigrams[-N:])))\n",
    "    print()"
   ]
  },
  {
   "cell_type": "code",
   "execution_count": 30,
   "metadata": {
    "collapsed": true
   },
   "outputs": [],
   "source": [
    "x_train, x_test, y_train, y_test = train_test_split(essay_data['essay0'], essay_data['education'], random_state = 0)\n",
    "count_vect = CountVectorizer()\n",
    "x_train_counts = count_vect.fit_transform(x_train)\n",
    "tfidf_transformer = TfidfTransformer()\n",
    "x_train_tfidf = tfidf_transformer.fit_transform(x_train_counts)\n",
    "\n",
    "x_test_counts = count_vect.transform(x_test)\n",
    "x_test_tfidf = tfidf_transformer.transform(x_test_counts)\n",
    "\n",
    "classifier = MultinomialNB().fit(x_train_tfidf, y_train)"
   ]
  },
  {
   "cell_type": "code",
   "execution_count": 31,
   "metadata": {},
   "outputs": [
    {
     "name": "stdout",
     "output_type": "stream",
     "text": [
      "Essay Response:\n",
      "i'm an astute girl who enjoys warm and quick witted but not empty bantering individuals i happen to be a wordnerd and happen to be working on a phd in literature eww grad student i know so a good dose of humor of both the high and lowbrow sort is always welcomed in my life i like sincerity but not sentimentalism i appreciate simplicity but not smallness i like pork products some of my interests include archaic words cockney slang rhyme chicago blues cook offs sea things the open road semaphores provocative furniture the quirky and slightly offbeat i am agile prismatic and playful\n",
      "-----------------------------\n",
      "Prediction: graduated from college/university\n",
      "Actual    : working on ph.d program\n",
      "\n",
      "Essay Response:\n",
      "after five years on the east coast i guess it's only appropriate for me to head out to the golden coast i recently joined a start up in san francisco i know super original right i'm the sixth employee and helping out with the company's marketing program it's completely different from the previous finance jobs i had in nyc and miami don't worry i'm not a heat fan the last five years i'm super stoked that's the right cali term right to be moving to san francisco and trying something different the whole south beach euro latino scene was never really my thing i love being active guess that makes sf perfect for me i enjoy running in fact i have a 12 person 200 mile relay race from madison wisconsin to chicago scheduled for two weeks from now so getting a bit nervous i'm looking forward to taking advantage of tahoe hiking and everything else sf has to offer otherwise i'm into dancing acting ridiculous checking out new flicks water sports trying new restaurants reading cooking and volunteering i'm a pretty ambitious person who likes to be challenged but yet i'd like to think i'm still grounded and have a good head on my shoulders\n",
      "-----------------------------\n",
      "Prediction: graduated from college/university\n",
      "Actual    : graduated from college/university\n",
      "\n",
      "Essay Response:\n",
      "my friends call me joe i'm a creative person and i love to make new things out of whatever is handy i have been told i could sell my work but i mostly give it out to friends and loved ones i am very artistic have been since i was a little one i can't wait till i get some new idea to spark the creation of something new but that's now i am and happy to be that way\n",
      "-----------------------------\n",
      "Prediction: graduated from college/university\n",
      "Actual    : graduated from college/university\n",
      "\n",
      "Essay Response:\n",
      "i'm from the bay area i don't take life too seriously fun love and happiness are things that drive me on a daily basis camping hiking biking concerts if its outside i love it even just grabbing some friends and going to a park or sunny backyard to crack a beer works for me i enjoy meeting new people and am not afraid to strike up a conversation with someone i've never met i've traveled around a lot mainly to go mountain biking in beautiful places but look forward to doing more leisure travel hopefully in asia and more of europe i consider myself a budding woodworker aspiring photographer amature cook and a decent artist\n",
      "-----------------------------\n",
      "Prediction: graduated from college/university\n",
      "Actual    : working on space camp\n",
      "\n",
      "Essay Response:\n",
      "a modern romantic who's sometimes a realist but who's always sarcastic honest and opinionated thoroughly liberal a poet and a song bird who hums without realizing it i love good food and good deals and good company i love thrifting and antiquing i believe ever day is an excuse to dress up i'm an artist and i love to draw i like claw machines cookie dough and word searches i'm going to college for fashion merchandising and spend a remarkable amount of time cogitating the connection between clothes and character i hate roses and shrimp and people who think they're better than me i talk during movies i dance while i cook and i sometimes pick flowers from public places and then feel bad about it i miss naptimes and i miss water parks and laser tag and chasing down ice cream trucks even though i didn't know what i wanted to buy i love not quite ripe nectarines and mountains of pillows and the way my dog lays her head on my shoulder i believe in indulging and enduring and embracing and remembering and creating and always always always hoping i want to make forts and have picnics and play so lame they're awesome board games i want to rent awful movies and make cupcakes and camp out on the floor for an entire evening i've been burned and spurned and spent way too long being told i intimidate men too much for them to approach me personal motto we are not defined by circumstance instead we are defined in the aftermath by how we have dealt with them one of my favorite quotes i must learn to love the fool in me the one who feels too much talks too much takes too many chances wins sometimes and loses often lacks self control loves &amp hates hurts and gets hurt promises and breaks promises laughs &amp cries it alone protects me against that utterly self controlled masterful tyrant whom i also harbor and who would rob me of human aliveness humility and dignity but for my fool theodore rubin\n",
      "-----------------------------\n",
      "Prediction: graduated from college/university\n",
      "Actual    : working on college/university\n",
      "\n"
     ]
    }
   ],
   "source": [
    "random_list_for_gender_test = [23985, 32768, 3161, 20330, 25112]\n",
    "\n",
    "for i in random_list_for_gender_test:\n",
    "    print (\"Essay Response:\")\n",
    "    print (x_test[i])\n",
    "    print (\"-----------------------------\")\n",
    "    print (\"Prediction: \"+str(classifier.predict(count_vect.transform([x_test[i]]))[0]))\n",
    "    print (\"Actual    : \"+y_test[i])\n",
    "    print ()"
   ]
  },
  {
   "cell_type": "code",
   "execution_count": 32,
   "metadata": {},
   "outputs": [
    {
     "name": "stdout",
     "output_type": "stream",
     "text": [
      "Accuracy: 0.453771886762\n"
     ]
    }
   ],
   "source": [
    "print (\"Accuracy: \"+str(classifier.score(x_test_tfidf, y_test)))"
   ]
  },
  {
   "cell_type": "code",
   "execution_count": null,
   "metadata": {
    "collapsed": true
   },
   "outputs": [],
   "source": []
  }
 ],
 "metadata": {
  "kernelspec": {
   "display_name": "Python 3",
   "language": "python",
   "name": "python3"
  },
  "language_info": {
   "codemirror_mode": {
    "name": "ipython",
    "version": 3
   },
   "file_extension": ".py",
   "mimetype": "text/x-python",
   "name": "python",
   "nbconvert_exporter": "python",
   "pygments_lexer": "ipython3",
   "version": "3.5.4"
  }
 },
 "nbformat": 4,
 "nbformat_minor": 2
}
